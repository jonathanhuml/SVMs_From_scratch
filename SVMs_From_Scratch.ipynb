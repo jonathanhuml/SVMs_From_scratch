{
 "cells": [
  {
   "cell_type": "code",
   "execution_count": 2,
   "metadata": {},
   "outputs": [],
   "source": [
    "import pandas as pd\n",
    "import cvxpy as cp\n",
    "import numpy as np\n",
    "datasets = [pd.read_csv('/Users/.../Desktop/MA706_SVM/data' + str(i) + '.csv') for i in range(1,7)]"
   ]
  },
  {
   "cell_type": "code",
   "execution_count": null,
   "metadata": {},
   "outputs": [],
   "source": [
    "import matplotlib.pyplot as plt\n",
    "for g in range(len(datasets)-1):\n",
    "    data = datasets[g].values\n",
    "    x = np.linspace(0, 1, 1000)\n",
    "    fig, ax = plt.subplots()\n",
    "    ax.scatter(x = data[:,0], y = data[:,1], c = data[:,-1])\n",
    "    ax.set_title('Dataset ' + str(g+1))\n",
    "    #plt.savefig(fname='Dataset ' + str(g+1))\n",
    "    plt.show()"
   ]
  },
  {
   "cell_type": "markdown",
   "metadata": {},
   "source": [
    "A quick note about the code: in the paper that explains this file, you will often see m x n used in the matrix notation. The data arrays below are actually the transpose of this despite being labeled m,n as the rows and columns. This is an unfortunate confusion, but not fatal to our results. "
   ]
  },
  {
   "cell_type": "markdown",
   "metadata": {},
   "source": [
    "## Primal LSVM "
   ]
  },
  {
   "cell_type": "code",
   "execution_count": 28,
   "metadata": {},
   "outputs": [
    {
     "name": "stdout",
     "output_type": "stream",
     "text": [
      "status of optimal\n",
      "optimal value of  10.291970388224076\n",
      "optimal var of [-9.44837016 18.28734314] -4.493304194715332\n",
      "status of infeasible\n",
      "optimal value of  inf\n",
      "optimal var of None None\n",
      "status of infeasible\n",
      "optimal value of  inf\n",
      "optimal var of None None\n",
      "status of infeasible\n",
      "optimal value of  inf\n",
      "optimal var of None None\n",
      "status of infeasible\n",
      "optimal value of  inf\n",
      "optimal var of None None\n",
      "status of infeasible\n",
      "optimal value of  inf\n",
      "optimal var of None None\n"
     ]
    }
   ],
   "source": [
    "def primal_lsvm(data):\n",
    "    X = data[:,:-1]\n",
    "    m,n = X.shape\n",
    "    y = data[:,-1]\n",
    "    # Create two scalar optimization variables\n",
    "    w = cp.Variable(n)\n",
    "    b = cp.Variable()\n",
    "\n",
    "    # y_i * (w^T x + b) >= 1 is the only constraint, but for p points\n",
    "    constraints = []\n",
    "    for i in range(len(data)):\n",
    "        constraints.append(y[i]*(X[i] @ w + b) >= 1)\n",
    "\n",
    "    # Form objective.\n",
    "    #Sum of squares of w vector--> CONVEX PROBLEM\n",
    "    obj = cp.Minimize(0.5* cp.norm(w, 2)) \n",
    "\n",
    "    # Form and solve problem.\n",
    "    prob = cp.Problem(obj, constraints)\n",
    "    prob.solve()  # Returns the optimal value.\n",
    "    print(\"status of\", prob.status)\n",
    "    print(\"optimal value of \", prob.value)\n",
    "    print(\"optimal var of\", w.value, b.value)\n",
    "    \n",
    "\n",
    "for k in range(len(datasets)):\n",
    "    primal_lsvm(datasets[k].values)"
   ]
  },
  {
   "cell_type": "code",
   "execution_count": 27,
   "metadata": {},
   "outputs": [
    {
     "name": "stdout",
     "output_type": "stream",
     "text": [
      "status of optimal\n",
      "optimal value of  10.291970388224076\n",
      "optimal var of [-9.44837016 18.28734314] -4.493304194715332\n"
     ]
    },
    {
     "data": {
      "image/png": "[encoded data removed]",
      "text/plain": [
       "<Figure size 432x288 with 1 Axes>"
      ]
     },
     "metadata": {
      "needs_background": "light"
     },
     "output_type": "display_data"
    }
   ],
   "source": [
    "import matplotlib.pyplot as plt\n",
    "data = datasets[0].values\n",
    "X = data[:,:-1]\n",
    "m,n = X.shape\n",
    "y = data[:,-1]\n",
    "w = cp.Variable(n)\n",
    "b = cp.Variable()\n",
    "constraints = []\n",
    "for i in range(len(data)):\n",
    "    constraints.append(y[i]*(X[i] @ w + b) >= 1)\n",
    "obj = cp.Minimize(0.5* cp.norm(w, 2)) \n",
    "prob = cp.Problem(obj, constraints)\n",
    "prob.solve()\n",
    "x = np.linspace(0, 1, 1000)\n",
    "fig, ax = plt.subplots()\n",
    "ax.scatter(x = data[:,0], y = data[:,1], c = data[:,2])\n",
    "ax.plot(x, -(w.value[0]/ w.value[1])*x - (b.value/ w.value[1]), linestyle='-')  # solid\n",
    "ax.set_title('LSVM Primal Problem')\n",
    "plt.show()"
   ]
  },
  {
   "cell_type": "markdown",
   "metadata": {},
   "source": [
    "## Dual LSVM"
   ]
  },
  {
   "cell_type": "code",
   "execution_count": 80,
   "metadata": {},
   "outputs": [
    {
     "name": "stdout",
     "output_type": "stream",
     "text": [
      "     pcost       dcost       gap    pres   dres\n",
      " 0: -1.9520e+01 -5.4239e+01  3e+01  2e-15  2e+00\n",
      " 1: -2.7335e+01 -3.8769e+01  1e+01  1e-15  8e-01\n",
      " 2: -8.6112e+01 -1.0158e+02  2e+01  8e-14  8e-01\n",
      " 3: -1.5263e+02 -1.8826e+02  4e+01  1e-14  6e-01\n",
      " 4: -2.0354e+02 -2.3728e+02  3e+01  6e-14  3e-01\n",
      " 5: -2.1172e+02 -2.1444e+02  3e+00  4e-14  1e-02\n",
      " 6: -2.1185e+02 -2.1188e+02  3e-02  9e-14  1e-04\n",
      " 7: -2.1185e+02 -2.1185e+02  3e-04  1e-13  1e-06\n",
      " 8: -2.1185e+02 -2.1185e+02  3e-06  9e-14  1e-08\n",
      "Optimal solution found.\n",
      "w =  [[-9.44837008]\n",
      " [18.287343  ]]\n",
      "b =  [-4.49330417]\n"
     ]
    }
   ],
   "source": [
    "from cvxopt import matrix as mat\n",
    "from cvxopt import solvers as solve\n",
    "\n",
    "data = datasets[0].values\n",
    "X = data[:,:-1]\n",
    "y = data[:,-1]\n",
    "m,n = X.shape\n",
    "y = y.reshape(-1,1) * 1.\n",
    "X_dash = y * X\n",
    "H = np.dot(X_dash , X_dash.T) * 1.\n",
    "\n",
    "\n",
    "P = mat(H)\n",
    "q = mat(-np.ones((m, 1)))\n",
    "G = mat(-np.eye(m))\n",
    "h = mat(np.zeros(m))\n",
    "A = mat(y.reshape(1, -1))\n",
    "b = mat(np.zeros(1))\n",
    "\n",
    "sol = solve.qp(P, q, G, h, A, b, verbose=False)\n",
    "alphas = np.array(sol['x'])\n",
    "w = ((y * alphas).T @ X).reshape(-1,1)\n",
    "S = (alphas > 1e-4).flatten()\n",
    "b = y[S] - np.dot(X[S], w)\n",
    "print('w = ', w)\n",
    "print('b = ', b[0])"
   ]
  },
  {
   "cell_type": "markdown",
   "metadata": {},
   "source": [
    "## Compromised LSVM"
   ]
  },
  {
   "cell_type": "code",
   "execution_count": 84,
   "metadata": {},
   "outputs": [
    {
     "name": "stdout",
     "output_type": "stream",
     "text": [
      "status: optimal\n",
      "optimal value 5.600000000551337\n",
      "optimal var [  1.2   8.   -6.4 -19.2] 33.59999999425281\n"
     ]
    },
    {
     "data": {
      "text/plain": [
       "0.98"
      ]
     },
     "execution_count": 84,
     "metadata": {},
     "output_type": "execute_result"
    }
   ],
   "source": [
    "data = datasets[5].values\n",
    "X = data[:,:-1]\n",
    "m,n = X.shape\n",
    "y = data[:,-1]\n",
    "# Create two scalar optimization variables\n",
    "w = cp.Variable(n)\n",
    "b = cp.Variable()\n",
    "t = cp.Variable(m)\n",
    "\n",
    "# y_i * (w^T x + b) >= 1 is the only constraint, but for p points\n",
    "constraints = [t >= 0]\n",
    "for i in range(len(data)):\n",
    "    constraints.append(1- y[i]*(X[i] @ w + b) <= t[i])\n",
    "# Form objective.\n",
    "#Sum of squares of w vector--> CONVEX PROBLEM\n",
    "obj = cp.Minimize(cp.sum(t))\n",
    "\n",
    "# Form and solve problem.\n",
    "prob = cp.Problem(obj, constraints)\n",
    "prob.solve()  # Returns the optimal value.\n",
    "print(\"status:\", prob.status)\n",
    "print(\"optimal value\", prob.value)\n",
    "print(\"optimal var\", w.value, b.value)\n",
    "\n",
    "\n",
    "pred = np.array([ np.dot(w.value, X[i]) + b.value for i in range(len(data))])\n",
    "a = pred > 0\n",
    "b = y>0\n",
    "np.sum(a==b) / len(a) #accuracy of our model"
   ]
  },
  {
   "cell_type": "markdown",
   "metadata": {},
   "source": [
    "## Linear Soft SVM"
   ]
  },
  {
   "cell_type": "code",
   "execution_count": 102,
   "metadata": {},
   "outputs": [
    {
     "name": "stdout",
     "output_type": "stream",
     "text": [
      "status: optimal\n",
      "optimal value 7.308007031668247\n",
      "optimal var [-4.25530101  9.09725646] -2.3639988520449386\n"
     ]
    }
   ],
   "source": [
    "data = datasets[0].values\n",
    "X = data[:,:-1]\n",
    "m,n = X.shape\n",
    "y = data[:,-1]\n",
    "# Create two scalar optimization variables\n",
    "w = cp.Variable(n)\n",
    "b = cp.Variable()\n",
    "t = cp.Variable(m)\n",
    "C = 0.95\n",
    "\n",
    "# y_i * (w^T x + b) >= 1 is the only constraint, but for p points\n",
    "constraints = [t >=0]\n",
    "for i in range(len(data)):\n",
    "    constraints.append(y[i]*(X[i] @ w + b) >= 1 - t[i])\n",
    "\n",
    "# Form objective.\n",
    "#Sum of squares of w vector--> CONVEX PROBLEM\n",
    "obj = cp.Minimize(0.5* cp.norm(w, 2) + cp.sum(t)) \n",
    "\n",
    "# Form and solve problem.\n",
    "prob = cp.Problem(obj, constraints)\n",
    "prob.solve()  # Returns the optimal value.\n",
    "print(\"status:\", prob.status)\n",
    "print(\"optimal value\", prob.value)\n",
    "print(\"optimal var\", w.value, b.value)"
   ]
  },
  {
   "cell_type": "markdown",
   "metadata": {},
   "source": [
    "## LSVM with Two Different Kernel Functions"
   ]
  },
  {
   "cell_type": "code",
   "execution_count": 228,
   "metadata": {},
   "outputs": [
    {
     "name": "stdout",
     "output_type": "stream",
     "text": [
      "[[ 0.78829576  0.77344151  0.8122197  ... -0.82469674 -0.80716803\n",
      "  -0.80996089]\n",
      " [ 0.77344151  0.76790301  0.77783204 ... -0.79194369 -0.78535314\n",
      "  -0.78408147]\n",
      " [ 0.8122197   0.77783204  0.8807966  ... -0.86778647 -0.82941509\n",
      "  -0.84706861]\n",
      " ...\n",
      " [-0.82469674 -0.79194369 -0.86778647 ...  0.89399332  0.86486285\n",
      "   0.86830392]\n",
      " [-0.80716803 -0.78535314 -0.82941509 ...  0.86486285  0.84374369\n",
      "   0.84223845]\n",
      " [-0.80996089 -0.78408147 -0.84706861 ...  0.86830392  0.84223845\n",
      "   0.84580467]]\n"
     ]
    }
   ],
   "source": [
    "from numpy import linalg as LA\n",
    "data = datasets[0].values\n",
    "X = data[:,:-1]\n",
    "m,n = X.shape\n",
    "y = data[:,-1]\n",
    "y_diag = np.diag(y)\n",
    "y_diag\n",
    "\n",
    "def radial_basis_function(x1,x2,sigma):\n",
    "    return np.exp(-(LA.norm(x1-x2)**2)/ (2*(sigma**2)))\n",
    "def sigmoid(x1,x2,beta,theta):\n",
    "    return np.tanh(beta*(np.dot(x1,x2))+theta)\n",
    "\n",
    "K1 = np.zeros((m,m))\n",
    "K2 = np.zeros((m,m))\n",
    "\n",
    "\n",
    "sigma = 1\n",
    "beta = 0.8\n",
    "theta= 1\n",
    "for i in range(m):\n",
    "    for j in range(m):\n",
    "        K1[i,j] = radial_basis_function(X[i],X[j],sigma)\n",
    "        K2[i,j] = sigmoid(X[i],X[j],beta,theta)\n",
    "        \n",
    "H1 = np.matmul(y_diag, np.matmul(K1,y_diag))\n",
    "H2 = np.matmul(y_diag, np.matmul(K2,y_diag))\n",
    "\n",
    "print(H2)"
   ]
  },
  {
   "cell_type": "code",
   "execution_count": 229,
   "metadata": {},
   "outputs": [
    {
     "name": "stdout",
     "output_type": "stream",
     "text": [
      "     pcost       dcost       gap    pres   dres\n",
      " 0: -2.0784e+01 -5.9118e+01  4e+01  2e-16  2e+00\n",
      " 1: -2.9118e+01 -4.2102e+01  1e+01  2e-15  8e-01\n",
      " 2: -5.5783e+01 -7.1138e+01  2e+01  1e-14  8e-01\n",
      " 3: -1.1945e+02 -1.4796e+02  3e+01  1e-14  7e-01\n",
      " 4: -1.7322e+02 -2.1191e+02  4e+01  2e-14  4e-01\n",
      " 5: -1.9268e+02 -2.0201e+02  9e+00  3e-14  6e-02\n",
      " 6: -1.9328e+02 -1.9340e+02  1e-01  9e-14  7e-04\n",
      " 7: -1.9328e+02 -1.9328e+02  1e-03  9e-14  7e-06\n",
      " 8: -1.9328e+02 -1.9328e+02  1e-05  6e-14  7e-08\n",
      "Optimal solution found.\n",
      "w =  [[-12.35303669]\n",
      " [ 17.27155498]]\n",
      "b =  [-3.85290516]\n"
     ]
    }
   ],
   "source": [
    "#All that's left for you to do here is to recompute H= Diag(y)KDiag(y)\n",
    "#where $K_ij = kernel function between x_i,x_j (should be symmetric)\n",
    "#in fact it has to be symmetric positive semidefinite or else not QP\n",
    "y_prime = y.reshape(-1,1) * 1.\n",
    "X_dash = y_prime * X\n",
    "H = np.dot(X_dash , X_dash.T) * 1.\n",
    "\n",
    "\n",
    "P = mat(H1)\n",
    "q = mat(-np.ones((m, 1)))\n",
    "G = mat(-np.eye(m))\n",
    "h = mat(np.zeros(m))\n",
    "A = mat(y_prime.reshape(1, -1))\n",
    "b = mat(np.zeros(1))\n",
    "\n",
    "sol = solve.qp(P, q, G, h, A, b, verbose=False)\n",
    "alphas = np.array(sol['x'])\n",
    "\n",
    "#recovering w\n",
    "w = ((y_prime * alphas).T @ X).reshape(-1,1)\n",
    "S = (alphas > 1e-4).flatten()\n",
    "b = y_prime[S] - np.dot(X[S], w)\n",
    "print('w = ', w)\n",
    "print('b = ', b[0])"
   ]
  },
  {
   "cell_type": "code",
   "execution_count": 230,
   "metadata": {},
   "outputs": [
    {
     "data": {
      "image/png": "[encoded data removed]",
      "text/plain": [
       "<Figure size 432x288 with 1 Axes>"
      ]
     },
     "metadata": {
      "needs_background": "light"
     },
     "output_type": "display_data"
    }
   ],
   "source": [
    "x = np.linspace(0, 1, 1000)\n",
    "fig, ax = plt.subplots()\n",
    "ax.scatter(x = data[:,0], y = data[:,1], c = data[:,2])\n",
    "ax.plot(x, -(w[0]/ w[1])*x - (b[0]/ w[1]), linestyle='-')  # solid\n",
    "ax.set_title('Kernel SVM')\n",
    "plt.show()"
   ]
  },
  {
   "cell_type": "markdown",
   "metadata": {},
   "source": [
    "## Quadratic Surface SVM"
   ]
  },
  {
   "cell_type": "code",
   "execution_count": 79,
   "metadata": {},
   "outputs": [
    {
     "name": "stdout",
     "output_type": "stream",
     "text": [
      "status of optimal\n",
      "optimal value of  548.3065381771187\n",
      "optimal var of [[  9.17872594  -5.16234774]\n",
      " [-44.64529281  56.55321568]] [-1.19097465e-08 -1.65097864e-09] -2.1267354092962703\n"
     ]
    }
   ],
   "source": [
    "#uses cvxpy\n",
    "data = datasets[0].values\n",
    "X = data[:,:-1]\n",
    "m,n = X.shape\n",
    "y = data[:,-1]\n",
    "# Create n x n quadratic matrix\n",
    "W = cp.Variable((n,n))\n",
    "b = cp.Variable(n)\n",
    "c = cp.Variable()\n",
    "\n",
    "expr = 0\n",
    "for i in range(len(X)):\n",
    "    expr = expr + cp.norm(W  @ X[i] + b, 2)\n",
    "    \n",
    "constraints = []\n",
    "for i in range(len(X)):\n",
    "    constraints.append(y[i]*(0.5*cp.quad_form(X[i],W) + cp.multiply(b,X[i]) + c) >= 1)\n",
    "\n",
    "# Form objective.\n",
    "# CONVEX PROBLEM\n",
    "obj = cp.Minimize(expr) \n",
    "prob = cp.Problem(obj, constraints)\n",
    "prob.solve()  # Returns the optimal value.\n",
    "print(\"status of\", prob.status)\n",
    "print(\"optimal value of \", prob.value)\n",
    "print(\"optimal var of\", W.value, b.value, c.value)\n"
   ]
  }
 ],
 "metadata": {
  "kernelspec": {
   "display_name": "Python 3",
   "language": "python",
   "name": "python3"
  },
  "language_info": {
   "codemirror_mode": {
    "name": "ipython",
    "version": 3
   },
   "file_extension": ".py",
   "mimetype": "text/x-python",
   "name": "python",
   "nbconvert_exporter": "python",
   "pygments_lexer": "ipython3",
   "version": "3.8.3"
  }
 },
 "nbformat": 4,
 "nbformat_minor": 4
}
